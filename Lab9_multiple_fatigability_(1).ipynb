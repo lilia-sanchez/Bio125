{
  "cells": [
    {
      "cell_type": "markdown",
      "metadata": {
        "id": "view-in-github",
        "colab_type": "text"
      },
      "source": [
        "<a href=\"https://colab.research.google.com/github/lilia-sanchez/Bio125/blob/main/Lab9_multiple_fatigability_(1).ipynb\" target=\"_parent\"><img src=\"https://colab.research.google.com/assets/colab-badge.svg\" alt=\"Open In Colab\"/></a>"
      ]
    },
    {
      "cell_type": "code",
      "execution_count": null,
      "id": "e12057df-f6a1-468e-9d65-9682866103a7",
      "metadata": {
        "id": "e12057df-f6a1-468e-9d65-9682866103a7"
      },
      "outputs": [],
      "source": [
        "# importing libraries\n",
        "import matplotlib.pyplot as plt\n",
        "import pandas as pd"
      ]
    },
    {
      "cell_type": "markdown",
      "id": "db2d6dfc-b501-427f-8b1a-3ab1457b1866",
      "metadata": {
        "id": "db2d6dfc-b501-427f-8b1a-3ab1457b1866"
      },
      "source": [
        "### Read the right hand data"
      ]
    },
    {
      "cell_type": "code",
      "execution_count": 6,
      "id": "17ffca92-178d-4ec8-9cbb-afb4cd3cc286",
      "metadata": {
        "colab": {
          "base_uri": "https://localhost:8080/",
          "height": 423
        },
        "id": "17ffca92-178d-4ec8-9cbb-afb4cd3cc286",
        "outputId": "a55d12f6-3fcf-415a-cb4d-32405edfb5a2"
      },
      "outputs": [
        {
          "output_type": "execute_result",
          "data": {
            "text/plain": [
              "         Time       EMG  Muscle Force\n",
              "0       0.000   0.00000      0.276933\n",
              "1       0.001   0.00000      0.276933\n",
              "2       0.002   0.00000      0.276933\n",
              "3       0.003   0.00000      0.276933\n",
              "4       0.004   0.00000      0.276933\n",
              "...       ...       ...           ...\n",
              "43899  43.899  10.52620      0.277308\n",
              "43900  43.900 -13.62650      0.277308\n",
              "43901  43.901   2.06573      0.277308\n",
              "43902  43.902  -2.36782      0.277308\n",
              "43903  43.903  -0.77044      0.277308\n",
              "\n",
              "[43904 rows x 3 columns]"
            ],
            "text/html": [
              "\n",
              "  <div id=\"df-99fb87f2-a172-4e3c-ad0d-a3adcecde2fc\" class=\"colab-df-container\">\n",
              "    <div>\n",
              "<style scoped>\n",
              "    .dataframe tbody tr th:only-of-type {\n",
              "        vertical-align: middle;\n",
              "    }\n",
              "\n",
              "    .dataframe tbody tr th {\n",
              "        vertical-align: top;\n",
              "    }\n",
              "\n",
              "    .dataframe thead th {\n",
              "        text-align: right;\n",
              "    }\n",
              "</style>\n",
              "<table border=\"1\" class=\"dataframe\">\n",
              "  <thead>\n",
              "    <tr style=\"text-align: right;\">\n",
              "      <th></th>\n",
              "      <th>Time</th>\n",
              "      <th>EMG</th>\n",
              "      <th>Muscle Force</th>\n",
              "    </tr>\n",
              "  </thead>\n",
              "  <tbody>\n",
              "    <tr>\n",
              "      <th>0</th>\n",
              "      <td>0.000</td>\n",
              "      <td>0.00000</td>\n",
              "      <td>0.276933</td>\n",
              "    </tr>\n",
              "    <tr>\n",
              "      <th>1</th>\n",
              "      <td>0.001</td>\n",
              "      <td>0.00000</td>\n",
              "      <td>0.276933</td>\n",
              "    </tr>\n",
              "    <tr>\n",
              "      <th>2</th>\n",
              "      <td>0.002</td>\n",
              "      <td>0.00000</td>\n",
              "      <td>0.276933</td>\n",
              "    </tr>\n",
              "    <tr>\n",
              "      <th>3</th>\n",
              "      <td>0.003</td>\n",
              "      <td>0.00000</td>\n",
              "      <td>0.276933</td>\n",
              "    </tr>\n",
              "    <tr>\n",
              "      <th>4</th>\n",
              "      <td>0.004</td>\n",
              "      <td>0.00000</td>\n",
              "      <td>0.276933</td>\n",
              "    </tr>\n",
              "    <tr>\n",
              "      <th>...</th>\n",
              "      <td>...</td>\n",
              "      <td>...</td>\n",
              "      <td>...</td>\n",
              "    </tr>\n",
              "    <tr>\n",
              "      <th>43899</th>\n",
              "      <td>43.899</td>\n",
              "      <td>10.52620</td>\n",
              "      <td>0.277308</td>\n",
              "    </tr>\n",
              "    <tr>\n",
              "      <th>43900</th>\n",
              "      <td>43.900</td>\n",
              "      <td>-13.62650</td>\n",
              "      <td>0.277308</td>\n",
              "    </tr>\n",
              "    <tr>\n",
              "      <th>43901</th>\n",
              "      <td>43.901</td>\n",
              "      <td>2.06573</td>\n",
              "      <td>0.277308</td>\n",
              "    </tr>\n",
              "    <tr>\n",
              "      <th>43902</th>\n",
              "      <td>43.902</td>\n",
              "      <td>-2.36782</td>\n",
              "      <td>0.277308</td>\n",
              "    </tr>\n",
              "    <tr>\n",
              "      <th>43903</th>\n",
              "      <td>43.903</td>\n",
              "      <td>-0.77044</td>\n",
              "      <td>0.277308</td>\n",
              "    </tr>\n",
              "  </tbody>\n",
              "</table>\n",
              "<p>43904 rows × 3 columns</p>\n",
              "</div>\n",
              "    <div class=\"colab-df-buttons\">\n",
              "\n",
              "  <div class=\"colab-df-container\">\n",
              "    <button class=\"colab-df-convert\" onclick=\"convertToInteractive('df-99fb87f2-a172-4e3c-ad0d-a3adcecde2fc')\"\n",
              "            title=\"Convert this dataframe to an interactive table.\"\n",
              "            style=\"display:none;\">\n",
              "\n",
              "  <svg xmlns=\"http://www.w3.org/2000/svg\" height=\"24px\" viewBox=\"0 -960 960 960\">\n",
              "    <path d=\"M120-120v-720h720v720H120Zm60-500h600v-160H180v160Zm220 220h160v-160H400v160Zm0 220h160v-160H400v160ZM180-400h160v-160H180v160Zm440 0h160v-160H620v160ZM180-180h160v-160H180v160Zm440 0h160v-160H620v160Z\"/>\n",
              "  </svg>\n",
              "    </button>\n",
              "\n",
              "  <style>\n",
              "    .colab-df-container {\n",
              "      display:flex;\n",
              "      gap: 12px;\n",
              "    }\n",
              "\n",
              "    .colab-df-convert {\n",
              "      background-color: #E8F0FE;\n",
              "      border: none;\n",
              "      border-radius: 50%;\n",
              "      cursor: pointer;\n",
              "      display: none;\n",
              "      fill: #1967D2;\n",
              "      height: 32px;\n",
              "      padding: 0 0 0 0;\n",
              "      width: 32px;\n",
              "    }\n",
              "\n",
              "    .colab-df-convert:hover {\n",
              "      background-color: #E2EBFA;\n",
              "      box-shadow: 0px 1px 2px rgba(60, 64, 67, 0.3), 0px 1px 3px 1px rgba(60, 64, 67, 0.15);\n",
              "      fill: #174EA6;\n",
              "    }\n",
              "\n",
              "    .colab-df-buttons div {\n",
              "      margin-bottom: 4px;\n",
              "    }\n",
              "\n",
              "    [theme=dark] .colab-df-convert {\n",
              "      background-color: #3B4455;\n",
              "      fill: #D2E3FC;\n",
              "    }\n",
              "\n",
              "    [theme=dark] .colab-df-convert:hover {\n",
              "      background-color: #434B5C;\n",
              "      box-shadow: 0px 1px 3px 1px rgba(0, 0, 0, 0.15);\n",
              "      filter: drop-shadow(0px 1px 2px rgba(0, 0, 0, 0.3));\n",
              "      fill: #FFFFFF;\n",
              "    }\n",
              "  </style>\n",
              "\n",
              "    <script>\n",
              "      const buttonEl =\n",
              "        document.querySelector('#df-99fb87f2-a172-4e3c-ad0d-a3adcecde2fc button.colab-df-convert');\n",
              "      buttonEl.style.display =\n",
              "        google.colab.kernel.accessAllowed ? 'block' : 'none';\n",
              "\n",
              "      async function convertToInteractive(key) {\n",
              "        const element = document.querySelector('#df-99fb87f2-a172-4e3c-ad0d-a3adcecde2fc');\n",
              "        const dataTable =\n",
              "          await google.colab.kernel.invokeFunction('convertToInteractive',\n",
              "                                                    [key], {});\n",
              "        if (!dataTable) return;\n",
              "\n",
              "        const docLinkHtml = 'Like what you see? Visit the ' +\n",
              "          '<a target=\"_blank\" href=https://colab.research.google.com/notebooks/data_table.ipynb>data table notebook</a>'\n",
              "          + ' to learn more about interactive tables.';\n",
              "        element.innerHTML = '';\n",
              "        dataTable['output_type'] = 'display_data';\n",
              "        await google.colab.output.renderOutput(dataTable, element);\n",
              "        const docLink = document.createElement('div');\n",
              "        docLink.innerHTML = docLinkHtml;\n",
              "        element.appendChild(docLink);\n",
              "      }\n",
              "    </script>\n",
              "  </div>\n",
              "\n",
              "\n",
              "<div id=\"df-53fd7597-e080-46cb-9265-5bb2de0d6e4c\">\n",
              "  <button class=\"colab-df-quickchart\" onclick=\"quickchart('df-53fd7597-e080-46cb-9265-5bb2de0d6e4c')\"\n",
              "            title=\"Suggest charts.\"\n",
              "            style=\"display:none;\">\n",
              "\n",
              "<svg xmlns=\"http://www.w3.org/2000/svg\" height=\"24px\"viewBox=\"0 0 24 24\"\n",
              "     width=\"24px\">\n",
              "    <g>\n",
              "        <path d=\"M19 3H5c-1.1 0-2 .9-2 2v14c0 1.1.9 2 2 2h14c1.1 0 2-.9 2-2V5c0-1.1-.9-2-2-2zM9 17H7v-7h2v7zm4 0h-2V7h2v10zm4 0h-2v-4h2v4z\"/>\n",
              "    </g>\n",
              "</svg>\n",
              "  </button>\n",
              "\n",
              "<style>\n",
              "  .colab-df-quickchart {\n",
              "      --bg-color: #E8F0FE;\n",
              "      --fill-color: #1967D2;\n",
              "      --hover-bg-color: #E2EBFA;\n",
              "      --hover-fill-color: #174EA6;\n",
              "      --disabled-fill-color: #AAA;\n",
              "      --disabled-bg-color: #DDD;\n",
              "  }\n",
              "\n",
              "  [theme=dark] .colab-df-quickchart {\n",
              "      --bg-color: #3B4455;\n",
              "      --fill-color: #D2E3FC;\n",
              "      --hover-bg-color: #434B5C;\n",
              "      --hover-fill-color: #FFFFFF;\n",
              "      --disabled-bg-color: #3B4455;\n",
              "      --disabled-fill-color: #666;\n",
              "  }\n",
              "\n",
              "  .colab-df-quickchart {\n",
              "    background-color: var(--bg-color);\n",
              "    border: none;\n",
              "    border-radius: 50%;\n",
              "    cursor: pointer;\n",
              "    display: none;\n",
              "    fill: var(--fill-color);\n",
              "    height: 32px;\n",
              "    padding: 0;\n",
              "    width: 32px;\n",
              "  }\n",
              "\n",
              "  .colab-df-quickchart:hover {\n",
              "    background-color: var(--hover-bg-color);\n",
              "    box-shadow: 0 1px 2px rgba(60, 64, 67, 0.3), 0 1px 3px 1px rgba(60, 64, 67, 0.15);\n",
              "    fill: var(--button-hover-fill-color);\n",
              "  }\n",
              "\n",
              "  .colab-df-quickchart-complete:disabled,\n",
              "  .colab-df-quickchart-complete:disabled:hover {\n",
              "    background-color: var(--disabled-bg-color);\n",
              "    fill: var(--disabled-fill-color);\n",
              "    box-shadow: none;\n",
              "  }\n",
              "\n",
              "  .colab-df-spinner {\n",
              "    border: 2px solid var(--fill-color);\n",
              "    border-color: transparent;\n",
              "    border-bottom-color: var(--fill-color);\n",
              "    animation:\n",
              "      spin 1s steps(1) infinite;\n",
              "  }\n",
              "\n",
              "  @keyframes spin {\n",
              "    0% {\n",
              "      border-color: transparent;\n",
              "      border-bottom-color: var(--fill-color);\n",
              "      border-left-color: var(--fill-color);\n",
              "    }\n",
              "    20% {\n",
              "      border-color: transparent;\n",
              "      border-left-color: var(--fill-color);\n",
              "      border-top-color: var(--fill-color);\n",
              "    }\n",
              "    30% {\n",
              "      border-color: transparent;\n",
              "      border-left-color: var(--fill-color);\n",
              "      border-top-color: var(--fill-color);\n",
              "      border-right-color: var(--fill-color);\n",
              "    }\n",
              "    40% {\n",
              "      border-color: transparent;\n",
              "      border-right-color: var(--fill-color);\n",
              "      border-top-color: var(--fill-color);\n",
              "    }\n",
              "    60% {\n",
              "      border-color: transparent;\n",
              "      border-right-color: var(--fill-color);\n",
              "    }\n",
              "    80% {\n",
              "      border-color: transparent;\n",
              "      border-right-color: var(--fill-color);\n",
              "      border-bottom-color: var(--fill-color);\n",
              "    }\n",
              "    90% {\n",
              "      border-color: transparent;\n",
              "      border-bottom-color: var(--fill-color);\n",
              "    }\n",
              "  }\n",
              "</style>\n",
              "\n",
              "  <script>\n",
              "    async function quickchart(key) {\n",
              "      const quickchartButtonEl =\n",
              "        document.querySelector('#' + key + ' button');\n",
              "      quickchartButtonEl.disabled = true;  // To prevent multiple clicks.\n",
              "      quickchartButtonEl.classList.add('colab-df-spinner');\n",
              "      try {\n",
              "        const charts = await google.colab.kernel.invokeFunction(\n",
              "            'suggestCharts', [key], {});\n",
              "      } catch (error) {\n",
              "        console.error('Error during call to suggestCharts:', error);\n",
              "      }\n",
              "      quickchartButtonEl.classList.remove('colab-df-spinner');\n",
              "      quickchartButtonEl.classList.add('colab-df-quickchart-complete');\n",
              "    }\n",
              "    (() => {\n",
              "      let quickchartButtonEl =\n",
              "        document.querySelector('#df-53fd7597-e080-46cb-9265-5bb2de0d6e4c button');\n",
              "      quickchartButtonEl.style.display =\n",
              "        google.colab.kernel.accessAllowed ? 'block' : 'none';\n",
              "    })();\n",
              "  </script>\n",
              "</div>\n",
              "    </div>\n",
              "  </div>\n"
            ]
          },
          "metadata": {},
          "execution_count": 6
        }
      ],
      "source": [
        "dfr = pd.read_csv (r'./TAMMYEXP1.txt', sep = '\\t')\n",
        "dfr"
      ]
    },
    {
      "cell_type": "markdown",
      "id": "17da275c-cac7-41b0-8714-052b1b8257a7",
      "metadata": {
        "id": "17da275c-cac7-41b0-8714-052b1b8257a7"
      },
      "source": [
        "### Read the left hand data"
      ]
    },
    {
      "cell_type": "code",
      "execution_count": 7,
      "id": "de1a14b7-67e0-4dd3-8cd2-cb6af60ef8b1",
      "metadata": {
        "id": "de1a14b7-67e0-4dd3-8cd2-cb6af60ef8b1",
        "outputId": "a87c8a1f-ccfe-4bae-84cc-2e087bbc9a99",
        "colab": {
          "base_uri": "https://localhost:8080/",
          "height": 423
        }
      },
      "outputs": [
        {
          "output_type": "execute_result",
          "data": {
            "text/plain": [
              "         Time       EMG  Muscle Force\n",
              "0       0.000   0.00000      0.277683\n",
              "1       0.001   0.00000      0.277683\n",
              "2       0.002   0.00000      0.277683\n",
              "3       0.003   0.00000      0.277683\n",
              "4       0.004   0.00000      0.277683\n",
              "...       ...       ...           ...\n",
              "32090  32.090  -4.22700      0.278060\n",
              "32091  32.091  -6.48159      0.277683\n",
              "32092  32.092  11.99310      0.278060\n",
              "32093  32.093  -6.02346      0.277683\n",
              "32094  32.094  15.49690      0.278060\n",
              "\n",
              "[32095 rows x 3 columns]"
            ],
            "text/html": [
              "\n",
              "  <div id=\"df-07e3014c-90a6-4826-b3dc-391ff56de1ce\" class=\"colab-df-container\">\n",
              "    <div>\n",
              "<style scoped>\n",
              "    .dataframe tbody tr th:only-of-type {\n",
              "        vertical-align: middle;\n",
              "    }\n",
              "\n",
              "    .dataframe tbody tr th {\n",
              "        vertical-align: top;\n",
              "    }\n",
              "\n",
              "    .dataframe thead th {\n",
              "        text-align: right;\n",
              "    }\n",
              "</style>\n",
              "<table border=\"1\" class=\"dataframe\">\n",
              "  <thead>\n",
              "    <tr style=\"text-align: right;\">\n",
              "      <th></th>\n",
              "      <th>Time</th>\n",
              "      <th>EMG</th>\n",
              "      <th>Muscle Force</th>\n",
              "    </tr>\n",
              "  </thead>\n",
              "  <tbody>\n",
              "    <tr>\n",
              "      <th>0</th>\n",
              "      <td>0.000</td>\n",
              "      <td>0.00000</td>\n",
              "      <td>0.277683</td>\n",
              "    </tr>\n",
              "    <tr>\n",
              "      <th>1</th>\n",
              "      <td>0.001</td>\n",
              "      <td>0.00000</td>\n",
              "      <td>0.277683</td>\n",
              "    </tr>\n",
              "    <tr>\n",
              "      <th>2</th>\n",
              "      <td>0.002</td>\n",
              "      <td>0.00000</td>\n",
              "      <td>0.277683</td>\n",
              "    </tr>\n",
              "    <tr>\n",
              "      <th>3</th>\n",
              "      <td>0.003</td>\n",
              "      <td>0.00000</td>\n",
              "      <td>0.277683</td>\n",
              "    </tr>\n",
              "    <tr>\n",
              "      <th>4</th>\n",
              "      <td>0.004</td>\n",
              "      <td>0.00000</td>\n",
              "      <td>0.277683</td>\n",
              "    </tr>\n",
              "    <tr>\n",
              "      <th>...</th>\n",
              "      <td>...</td>\n",
              "      <td>...</td>\n",
              "      <td>...</td>\n",
              "    </tr>\n",
              "    <tr>\n",
              "      <th>32090</th>\n",
              "      <td>32.090</td>\n",
              "      <td>-4.22700</td>\n",
              "      <td>0.278060</td>\n",
              "    </tr>\n",
              "    <tr>\n",
              "      <th>32091</th>\n",
              "      <td>32.091</td>\n",
              "      <td>-6.48159</td>\n",
              "      <td>0.277683</td>\n",
              "    </tr>\n",
              "    <tr>\n",
              "      <th>32092</th>\n",
              "      <td>32.092</td>\n",
              "      <td>11.99310</td>\n",
              "      <td>0.278060</td>\n",
              "    </tr>\n",
              "    <tr>\n",
              "      <th>32093</th>\n",
              "      <td>32.093</td>\n",
              "      <td>-6.02346</td>\n",
              "      <td>0.277683</td>\n",
              "    </tr>\n",
              "    <tr>\n",
              "      <th>32094</th>\n",
              "      <td>32.094</td>\n",
              "      <td>15.49690</td>\n",
              "      <td>0.278060</td>\n",
              "    </tr>\n",
              "  </tbody>\n",
              "</table>\n",
              "<p>32095 rows × 3 columns</p>\n",
              "</div>\n",
              "    <div class=\"colab-df-buttons\">\n",
              "\n",
              "  <div class=\"colab-df-container\">\n",
              "    <button class=\"colab-df-convert\" onclick=\"convertToInteractive('df-07e3014c-90a6-4826-b3dc-391ff56de1ce')\"\n",
              "            title=\"Convert this dataframe to an interactive table.\"\n",
              "            style=\"display:none;\">\n",
              "\n",
              "  <svg xmlns=\"http://www.w3.org/2000/svg\" height=\"24px\" viewBox=\"0 -960 960 960\">\n",
              "    <path d=\"M120-120v-720h720v720H120Zm60-500h600v-160H180v160Zm220 220h160v-160H400v160Zm0 220h160v-160H400v160ZM180-400h160v-160H180v160Zm440 0h160v-160H620v160ZM180-180h160v-160H180v160Zm440 0h160v-160H620v160Z\"/>\n",
              "  </svg>\n",
              "    </button>\n",
              "\n",
              "  <style>\n",
              "    .colab-df-container {\n",
              "      display:flex;\n",
              "      gap: 12px;\n",
              "    }\n",
              "\n",
              "    .colab-df-convert {\n",
              "      background-color: #E8F0FE;\n",
              "      border: none;\n",
              "      border-radius: 50%;\n",
              "      cursor: pointer;\n",
              "      display: none;\n",
              "      fill: #1967D2;\n",
              "      height: 32px;\n",
              "      padding: 0 0 0 0;\n",
              "      width: 32px;\n",
              "    }\n",
              "\n",
              "    .colab-df-convert:hover {\n",
              "      background-color: #E2EBFA;\n",
              "      box-shadow: 0px 1px 2px rgba(60, 64, 67, 0.3), 0px 1px 3px 1px rgba(60, 64, 67, 0.15);\n",
              "      fill: #174EA6;\n",
              "    }\n",
              "\n",
              "    .colab-df-buttons div {\n",
              "      margin-bottom: 4px;\n",
              "    }\n",
              "\n",
              "    [theme=dark] .colab-df-convert {\n",
              "      background-color: #3B4455;\n",
              "      fill: #D2E3FC;\n",
              "    }\n",
              "\n",
              "    [theme=dark] .colab-df-convert:hover {\n",
              "      background-color: #434B5C;\n",
              "      box-shadow: 0px 1px 3px 1px rgba(0, 0, 0, 0.15);\n",
              "      filter: drop-shadow(0px 1px 2px rgba(0, 0, 0, 0.3));\n",
              "      fill: #FFFFFF;\n",
              "    }\n",
              "  </style>\n",
              "\n",
              "    <script>\n",
              "      const buttonEl =\n",
              "        document.querySelector('#df-07e3014c-90a6-4826-b3dc-391ff56de1ce button.colab-df-convert');\n",
              "      buttonEl.style.display =\n",
              "        google.colab.kernel.accessAllowed ? 'block' : 'none';\n",
              "\n",
              "      async function convertToInteractive(key) {\n",
              "        const element = document.querySelector('#df-07e3014c-90a6-4826-b3dc-391ff56de1ce');\n",
              "        const dataTable =\n",
              "          await google.colab.kernel.invokeFunction('convertToInteractive',\n",
              "                                                    [key], {});\n",
              "        if (!dataTable) return;\n",
              "\n",
              "        const docLinkHtml = 'Like what you see? Visit the ' +\n",
              "          '<a target=\"_blank\" href=https://colab.research.google.com/notebooks/data_table.ipynb>data table notebook</a>'\n",
              "          + ' to learn more about interactive tables.';\n",
              "        element.innerHTML = '';\n",
              "        dataTable['output_type'] = 'display_data';\n",
              "        await google.colab.output.renderOutput(dataTable, element);\n",
              "        const docLink = document.createElement('div');\n",
              "        docLink.innerHTML = docLinkHtml;\n",
              "        element.appendChild(docLink);\n",
              "      }\n",
              "    </script>\n",
              "  </div>\n",
              "\n",
              "\n",
              "<div id=\"df-c0edd92b-9e1e-4b57-be80-c39d56c69e8f\">\n",
              "  <button class=\"colab-df-quickchart\" onclick=\"quickchart('df-c0edd92b-9e1e-4b57-be80-c39d56c69e8f')\"\n",
              "            title=\"Suggest charts.\"\n",
              "            style=\"display:none;\">\n",
              "\n",
              "<svg xmlns=\"http://www.w3.org/2000/svg\" height=\"24px\"viewBox=\"0 0 24 24\"\n",
              "     width=\"24px\">\n",
              "    <g>\n",
              "        <path d=\"M19 3H5c-1.1 0-2 .9-2 2v14c0 1.1.9 2 2 2h14c1.1 0 2-.9 2-2V5c0-1.1-.9-2-2-2zM9 17H7v-7h2v7zm4 0h-2V7h2v10zm4 0h-2v-4h2v4z\"/>\n",
              "    </g>\n",
              "</svg>\n",
              "  </button>\n",
              "\n",
              "<style>\n",
              "  .colab-df-quickchart {\n",
              "      --bg-color: #E8F0FE;\n",
              "      --fill-color: #1967D2;\n",
              "      --hover-bg-color: #E2EBFA;\n",
              "      --hover-fill-color: #174EA6;\n",
              "      --disabled-fill-color: #AAA;\n",
              "      --disabled-bg-color: #DDD;\n",
              "  }\n",
              "\n",
              "  [theme=dark] .colab-df-quickchart {\n",
              "      --bg-color: #3B4455;\n",
              "      --fill-color: #D2E3FC;\n",
              "      --hover-bg-color: #434B5C;\n",
              "      --hover-fill-color: #FFFFFF;\n",
              "      --disabled-bg-color: #3B4455;\n",
              "      --disabled-fill-color: #666;\n",
              "  }\n",
              "\n",
              "  .colab-df-quickchart {\n",
              "    background-color: var(--bg-color);\n",
              "    border: none;\n",
              "    border-radius: 50%;\n",
              "    cursor: pointer;\n",
              "    display: none;\n",
              "    fill: var(--fill-color);\n",
              "    height: 32px;\n",
              "    padding: 0;\n",
              "    width: 32px;\n",
              "  }\n",
              "\n",
              "  .colab-df-quickchart:hover {\n",
              "    background-color: var(--hover-bg-color);\n",
              "    box-shadow: 0 1px 2px rgba(60, 64, 67, 0.3), 0 1px 3px 1px rgba(60, 64, 67, 0.15);\n",
              "    fill: var(--button-hover-fill-color);\n",
              "  }\n",
              "\n",
              "  .colab-df-quickchart-complete:disabled,\n",
              "  .colab-df-quickchart-complete:disabled:hover {\n",
              "    background-color: var(--disabled-bg-color);\n",
              "    fill: var(--disabled-fill-color);\n",
              "    box-shadow: none;\n",
              "  }\n",
              "\n",
              "  .colab-df-spinner {\n",
              "    border: 2px solid var(--fill-color);\n",
              "    border-color: transparent;\n",
              "    border-bottom-color: var(--fill-color);\n",
              "    animation:\n",
              "      spin 1s steps(1) infinite;\n",
              "  }\n",
              "\n",
              "  @keyframes spin {\n",
              "    0% {\n",
              "      border-color: transparent;\n",
              "      border-bottom-color: var(--fill-color);\n",
              "      border-left-color: var(--fill-color);\n",
              "    }\n",
              "    20% {\n",
              "      border-color: transparent;\n",
              "      border-left-color: var(--fill-color);\n",
              "      border-top-color: var(--fill-color);\n",
              "    }\n",
              "    30% {\n",
              "      border-color: transparent;\n",
              "      border-left-color: var(--fill-color);\n",
              "      border-top-color: var(--fill-color);\n",
              "      border-right-color: var(--fill-color);\n",
              "    }\n",
              "    40% {\n",
              "      border-color: transparent;\n",
              "      border-right-color: var(--fill-color);\n",
              "      border-top-color: var(--fill-color);\n",
              "    }\n",
              "    60% {\n",
              "      border-color: transparent;\n",
              "      border-right-color: var(--fill-color);\n",
              "    }\n",
              "    80% {\n",
              "      border-color: transparent;\n",
              "      border-right-color: var(--fill-color);\n",
              "      border-bottom-color: var(--fill-color);\n",
              "    }\n",
              "    90% {\n",
              "      border-color: transparent;\n",
              "      border-bottom-color: var(--fill-color);\n",
              "    }\n",
              "  }\n",
              "</style>\n",
              "\n",
              "  <script>\n",
              "    async function quickchart(key) {\n",
              "      const quickchartButtonEl =\n",
              "        document.querySelector('#' + key + ' button');\n",
              "      quickchartButtonEl.disabled = true;  // To prevent multiple clicks.\n",
              "      quickchartButtonEl.classList.add('colab-df-spinner');\n",
              "      try {\n",
              "        const charts = await google.colab.kernel.invokeFunction(\n",
              "            'suggestCharts', [key], {});\n",
              "      } catch (error) {\n",
              "        console.error('Error during call to suggestCharts:', error);\n",
              "      }\n",
              "      quickchartButtonEl.classList.remove('colab-df-spinner');\n",
              "      quickchartButtonEl.classList.add('colab-df-quickchart-complete');\n",
              "    }\n",
              "    (() => {\n",
              "      let quickchartButtonEl =\n",
              "        document.querySelector('#df-c0edd92b-9e1e-4b57-be80-c39d56c69e8f button');\n",
              "      quickchartButtonEl.style.display =\n",
              "        google.colab.kernel.accessAllowed ? 'block' : 'none';\n",
              "    })();\n",
              "  </script>\n",
              "</div>\n",
              "    </div>\n",
              "  </div>\n"
            ]
          },
          "metadata": {},
          "execution_count": 7
        }
      ],
      "source": [
        "dfl = pd.read_csv (r'./TAMMYEXP2_Export.txt', sep = '\\t')\n",
        "dfl"
      ]
    },
    {
      "cell_type": "markdown",
      "id": "d7d95b37-c091-412f-87c5-46076e92e42b",
      "metadata": {
        "id": "d7d95b37-c091-412f-87c5-46076e92e42b"
      },
      "source": [
        "### Graph the raw data (EMG and Time)"
      ]
    },
    {
      "cell_type": "code",
      "execution_count": 8,
      "id": "a66e0a8e-9447-426c-bbe4-02fa3d870839",
      "metadata": {
        "id": "a66e0a8e-9447-426c-bbe4-02fa3d870839",
        "outputId": "0eab078b-30d5-4d51-e496-07099804dbd2",
        "colab": {
          "base_uri": "https://localhost:8080/",
          "height": 466
        }
      },
      "outputs": [
        {
          "output_type": "execute_result",
          "data": {
            "text/plain": [
              "Text(0, 0.5, 'EMG (Volts)')"
            ]
          },
          "metadata": {},
          "execution_count": 8
        },
        {
          "output_type": "display_data",
          "data": {
            "text/plain": [
              "<Figure size 640x480 with 1 Axes>"
            ],
            "image/png": "[encoded data removed]"
          },
          "metadata": {}
        }
      ],
      "source": [
        "fig, ax = plt.subplots()\n",
        "dfr.plot.line(ax = ax, y = 'EMG', x = 'Time')\n",
        "dfl.plot.line(ax = ax, y = 'EMG', x = 'Time')\n",
        "ax.set_xlabel(\"Time (Seconds)\")\n",
        "ax.set_ylabel(\"EMG (Volts)\")"
      ]
    },
    {
      "cell_type": "markdown",
      "id": "8a502d01-f4b5-445c-b015-0d0276e6de23",
      "metadata": {
        "id": "8a502d01-f4b5-445c-b015-0d0276e6de23"
      },
      "source": [
        "### Decide how you want to analyze the data..."
      ]
    },
    {
      "cell_type": "code",
      "execution_count": 9,
      "id": "d8eb3348-579d-4dfe-9985-cb8ac14843b5",
      "metadata": {
        "id": "d8eb3348-579d-4dfe-9985-cb8ac14843b5"
      },
      "outputs": [],
      "source": [
        "# Define the parameters\n",
        "window_size = 10  # Window size in seconds (how large of a window you want to take the avg max of)\n",
        "step_size = 10 # Step size in seconds (how often you want to check the window size)\n"
      ]
    },
    {
      "cell_type": "markdown",
      "id": "6afe662b-5f12-48dc-9ff5-a6079933e9aa",
      "metadata": {
        "id": "6afe662b-5f12-48dc-9ff5-a6079933e9aa"
      },
      "source": [
        "### Run the code that will perform the analysis and display results at bottom"
      ]
    },
    {
      "cell_type": "code",
      "execution_count": 10,
      "id": "253fa09e-323d-4bce-b0f4-c73c40ac8976",
      "metadata": {
        "id": "253fa09e-323d-4bce-b0f4-c73c40ac8976",
        "outputId": "8d122e7a-fc15-48d4-f59a-af7283f83802",
        "colab": {
          "base_uri": "https://localhost:8080/"
        }
      },
      "outputs": [
        {
          "output_type": "stream",
          "name": "stdout",
          "text": [
            "      Time  MaxEMG_R  MaxEMG_percent_R\n",
            "0   4.9995   25.9883        100.000000\n",
            "1  14.9995   25.9642         99.907266\n",
            "2  24.9995   21.9019         84.276001\n",
            "3  34.9995   22.0161         84.715430\n",
            "      Time  MaxEMG_L  MaxEMG_percent_L\n",
            "0   4.9995   25.4612        100.000000\n",
            "1  14.9995   24.0828         94.586272\n",
            "2  24.9995   23.8393         93.629915\n"
          ]
        }
      ],
      "source": [
        "# Initialize lists to store the calculated max values\n",
        "max_values_r = []\n",
        "time_intervals_r = []\n",
        "\n",
        "max_values_l = []\n",
        "time_intervals_l = []\n",
        "\n",
        "# Iterate through the data in steps for dfr\n",
        "for i in range(0, len(dfr), int(step_size / 0.001)):\n",
        "    start_idx = i\n",
        "    end_idx = start_idx + int(window_size / 0.001)\n",
        "\n",
        "    if end_idx < len(dfr):\n",
        "        window_data = dfr.iloc[start_idx:end_idx]\n",
        "        max_value = window_data['EMG'].max()\n",
        "        max_values_r.append(max_value)\n",
        "\n",
        "        # Calculate the time interval (take the midpoint of the window)\n",
        "        time_interval = window_data['Time'].mean()\n",
        "        time_intervals_r.append(time_interval)\n",
        "\n",
        "# Create a new DataFrame with the calculated max values and time intervals for dfr\n",
        "result_df_r = pd.DataFrame({'Time': time_intervals_r, 'MaxEMG_R': max_values_r})\n",
        "\n",
        "# Iterate through the data in steps for dfl\n",
        "for i in range(0, len(dfl), int(step_size / 0.001)):\n",
        "    start_idx = i\n",
        "    end_idx = start_idx + int(window_size / 0.001)\n",
        "\n",
        "    if end_idx < len(dfl):\n",
        "        window_data = dfl.iloc[start_idx:end_idx]\n",
        "        max_value = window_data['EMG'].max()\n",
        "        max_values_l.append(max_value)\n",
        "\n",
        "        # Calculate the time interval (take the midpoint of the window)\n",
        "        time_interval = window_data['Time'].mean()\n",
        "        time_intervals_l.append(time_interval)\n",
        "\n",
        "# Create a new DataFrame with the calculated max values and time intervals for dfl\n",
        "result_df_l = pd.DataFrame({'Time': time_intervals_l, 'MaxEMG_L': max_values_l})\n",
        "\n",
        "# Calculate the percentage of max EMG for each 0.5 seconds interval for both dfr and dfl\n",
        "result_df_r['MaxEMG_percent_R'] = (result_df_r['MaxEMG_R'] / result_df_r['MaxEMG_R'].max()) * 100\n",
        "result_df_l['MaxEMG_percent_L'] = (result_df_l['MaxEMG_L'] / result_df_l['MaxEMG_L'].max()) * 100\n",
        "\n",
        "# Display the results\n",
        "print(result_df_r)\n",
        "print(result_df_l)"
      ]
    },
    {
      "cell_type": "markdown",
      "id": "63a8dd78-bfba-445d-8abc-6f82b9370c34",
      "metadata": {
        "id": "63a8dd78-bfba-445d-8abc-6f82b9370c34"
      },
      "source": [
        "### Set a threshold of Max_EMG_percent for fatigability determination (what % of max is considered fatigued)"
      ]
    },
    {
      "cell_type": "code",
      "execution_count": 16,
      "id": "2e4b1dea-7bd1-4d9d-b3c2-a961066bdadc",
      "metadata": {
        "id": "2e4b1dea-7bd1-4d9d-b3c2-a961066bdadc"
      },
      "outputs": [],
      "source": [
        "threshold = 94"
      ]
    },
    {
      "cell_type": "markdown",
      "id": "01f22fe5-ba07-4b34-95a3-1454e2c77cbe",
      "metadata": {
        "id": "01f22fe5-ba07-4b34-95a3-1454e2c77cbe"
      },
      "source": [
        "### Calculate when 'MaxEMG_percent' reaches approximately threshold"
      ]
    },
    {
      "cell_type": "code",
      "execution_count": 17,
      "id": "d152905a-01f9-4db6-a0a9-0e9791cc34bb",
      "metadata": {
        "id": "d152905a-01f9-4db6-a0a9-0e9791cc34bb",
        "outputId": "2cba6670-4b16-4acc-b368-38ad643bc253",
        "colab": {
          "base_uri": "https://localhost:8080/"
        }
      },
      "outputs": [
        {
          "output_type": "stream",
          "name": "stdout",
          "text": [
            "Time at ~94 % of max for right hand: 24.9995 seconds\n",
            "Time at ~94 % of max for left hand: 24.9995 seconds\n"
          ]
        }
      ],
      "source": [
        "reached_threshold_R = result_df_r[result_df_r['MaxEMG_percent_R'] <= threshold]\n",
        "time_at_threshold_R = reached_threshold_R['Time'].iloc[0]\n",
        "reached_threshold_L = result_df_l[result_df_l['MaxEMG_percent_L'] <= threshold]\n",
        "time_at_threshold_L = reached_threshold_L['Time'].iloc[0]\n",
        "print(f\"Time at ~{threshold} % of max for right hand: {time_at_threshold_R} seconds\")\n",
        "print(f\"Time at ~{threshold} % of max for left hand: {time_at_threshold_L} seconds\")"
      ]
    },
    {
      "cell_type": "markdown",
      "id": "98eef2b0-20f7-46ff-bce7-5230415875f9",
      "metadata": {
        "id": "98eef2b0-20f7-46ff-bce7-5230415875f9"
      },
      "source": [
        "### Graph the EMG data including when it reaches fatigability threshold"
      ]
    },
    {
      "cell_type": "code",
      "execution_count": 18,
      "id": "4cb774e5-3128-404d-aa49-25157fb29b77",
      "metadata": {
        "scrolled": true,
        "id": "4cb774e5-3128-404d-aa49-25157fb29b77",
        "outputId": "ba2fc521-a13e-4e7c-f443-b1fdd5c57825",
        "colab": {
          "base_uri": "https://localhost:8080/",
          "height": 466
        }
      },
      "outputs": [
        {
          "output_type": "execute_result",
          "data": {
            "text/plain": [
              "<matplotlib.lines.Line2D at 0x7bb4ef5954e0>"
            ]
          },
          "metadata": {},
          "execution_count": 18
        },
        {
          "output_type": "display_data",
          "data": {
            "text/plain": [
              "<Figure size 640x480 with 1 Axes>"
            ],
            "image/png": "[encoded data removed]"
          },
          "metadata": {}
        }
      ],
      "source": [
        "fig, ax = plt.subplots()\n",
        "result_df_r.plot.line(ax = ax, y = 'MaxEMG_percent_R', x = 'Time', color = 'r', marker = 'o')\n",
        "result_df_l.plot.line(ax = ax, y = 'MaxEMG_percent_L', x = 'Time', color = 'b', marker = 'o')\n",
        "ax.set_xlabel(\"Time (Seconds)\")\n",
        "ax.set_ylabel(\"EMG (% of Max)\")\n",
        "plt.axhline(threshold, color='red', ls='dotted')"
      ]
    },
    {
      "cell_type": "markdown",
      "id": "f4821588-5906-4544-9036-2a1338434cbb",
      "metadata": {
        "id": "f4821588-5906-4544-9036-2a1338434cbb"
      },
      "source": [
        "### Graph Left vs Right as an n of 1 (no error bars)"
      ]
    },
    {
      "cell_type": "code",
      "execution_count": 19,
      "id": "ed92af4f-2929-40a8-81d1-a6bc5b057888",
      "metadata": {
        "id": "ed92af4f-2929-40a8-81d1-a6bc5b057888",
        "outputId": "cdf8a775-4199-4716-fef5-828bd2b6ed03",
        "colab": {
          "base_uri": "https://localhost:8080/",
          "height": 469
        }
      },
      "outputs": [
        {
          "output_type": "execute_result",
          "data": {
            "text/plain": [
              "Text(0.5, 1.0, 'Fatigability Assay - Right vs Left Hand')"
            ]
          },
          "metadata": {},
          "execution_count": 19
        },
        {
          "output_type": "display_data",
          "data": {
            "text/plain": [
              "<Figure size 640x480 with 1 Axes>"
            ],
            "image/png": "[encoded data removed]"
          },
          "metadata": {}
        }
      ],
      "source": [
        "# build a bar plot\n",
        "plt.bar(['Right hand', 'Left hand'],[time_at_threshold_R, time_at_threshold_L])\n",
        "plt.ylabel('Time to fatigue (seconds)')\n",
        "plt.title('Fatigability Assay - Right vs Left Hand')"
      ]
    },
    {
      "cell_type": "code",
      "execution_count": null,
      "id": "1758fb54-1e61-4dbf-93dc-f4c8cd46a102",
      "metadata": {
        "id": "1758fb54-1e61-4dbf-93dc-f4c8cd46a102"
      },
      "outputs": [],
      "source": []
    }
  ],
  "metadata": {
    "kernelspec": {
      "display_name": "Python 3 (ipykernel)",
      "language": "python",
      "name": "python3"
    },
    "language_info": {
      "codemirror_mode": {
        "name": "ipython",
        "version": 3
      },
      "file_extension": ".py",
      "mimetype": "text/x-python",
      "name": "python",
      "nbconvert_exporter": "python",
      "pygments_lexer": "ipython3",
      "version": "3.10.12"
    },
    "colab": {
      "provenance": [],
      "include_colab_link": true
    }
  },
  "nbformat": 4,
  "nbformat_minor": 5
}